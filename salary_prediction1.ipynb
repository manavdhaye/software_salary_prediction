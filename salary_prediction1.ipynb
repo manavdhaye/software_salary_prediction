{
 "cells": [
  {
   "cell_type": "code",
   "execution_count": 33,
   "id": "2c4fa65d-ca7d-4a85-a898-9a3261d46ce2",
   "metadata": {},
   "outputs": [],
   "source": [
    "import pandas as pd\n",
    "import numpy as np\n",
    "from sklearn.model_selection import train_test_split\n",
    "from sklearn.ensemble import RandomForestRegressor\n",
    "from sklearn.preprocessing import LabelEncoder,StandardScaler\n",
    "from sklearn.metrics import mean_absolute_error\n",
    "import joblib\n",
    "from sklearn.model_selection import RandomizedSearchCV\n",
    "import re\n",
    "from xgboost import XGBRegressor\n"
   ]
  },
  {
   "cell_type": "code",
   "execution_count": 3,
   "id": "1c7c65c8-c94c-4274-ad21-a062258a9fad",
   "metadata": {},
   "outputs": [],
   "source": [
    "df=pd.read_csv(\"Salary_Dataset_with_Extra_Features.csv\")"
   ]
  },
  {
   "cell_type": "code",
   "execution_count": 4,
   "id": "fa44758c-6e76-4a87-8ed8-d70ee8002c6c",
   "metadata": {},
   "outputs": [
    {
     "data": {
      "text/html": [
       "<div>\n",
       "<style scoped>\n",
       "    .dataframe tbody tr th:only-of-type {\n",
       "        vertical-align: middle;\n",
       "    }\n",
       "\n",
       "    .dataframe tbody tr th {\n",
       "        vertical-align: top;\n",
       "    }\n",
       "\n",
       "    .dataframe thead th {\n",
       "        text-align: right;\n",
       "    }\n",
       "</style>\n",
       "<table border=\"1\" class=\"dataframe\">\n",
       "  <thead>\n",
       "    <tr style=\"text-align: right;\">\n",
       "      <th></th>\n",
       "      <th>Rating</th>\n",
       "      <th>Company Name</th>\n",
       "      <th>Job Title</th>\n",
       "      <th>Salary</th>\n",
       "      <th>Salaries Reported</th>\n",
       "      <th>Location</th>\n",
       "      <th>Employment Status</th>\n",
       "      <th>Job Roles</th>\n",
       "    </tr>\n",
       "  </thead>\n",
       "  <tbody>\n",
       "    <tr>\n",
       "      <th>0</th>\n",
       "      <td>3.8</td>\n",
       "      <td>Sasken</td>\n",
       "      <td>Android Developer</td>\n",
       "      <td>400000</td>\n",
       "      <td>3</td>\n",
       "      <td>Bangalore</td>\n",
       "      <td>Full Time</td>\n",
       "      <td>Android</td>\n",
       "    </tr>\n",
       "    <tr>\n",
       "      <th>1</th>\n",
       "      <td>4.5</td>\n",
       "      <td>Advanced Millennium Technologies</td>\n",
       "      <td>Android Developer</td>\n",
       "      <td>400000</td>\n",
       "      <td>3</td>\n",
       "      <td>Bangalore</td>\n",
       "      <td>Full Time</td>\n",
       "      <td>Android</td>\n",
       "    </tr>\n",
       "    <tr>\n",
       "      <th>2</th>\n",
       "      <td>4.0</td>\n",
       "      <td>Unacademy</td>\n",
       "      <td>Android Developer</td>\n",
       "      <td>1000000</td>\n",
       "      <td>3</td>\n",
       "      <td>Bangalore</td>\n",
       "      <td>Full Time</td>\n",
       "      <td>Android</td>\n",
       "    </tr>\n",
       "    <tr>\n",
       "      <th>3</th>\n",
       "      <td>3.8</td>\n",
       "      <td>SnapBizz Cloudtech</td>\n",
       "      <td>Android Developer</td>\n",
       "      <td>300000</td>\n",
       "      <td>3</td>\n",
       "      <td>Bangalore</td>\n",
       "      <td>Full Time</td>\n",
       "      <td>Android</td>\n",
       "    </tr>\n",
       "    <tr>\n",
       "      <th>4</th>\n",
       "      <td>4.4</td>\n",
       "      <td>Appoids Tech Solutions</td>\n",
       "      <td>Android Developer</td>\n",
       "      <td>600000</td>\n",
       "      <td>3</td>\n",
       "      <td>Bangalore</td>\n",
       "      <td>Full Time</td>\n",
       "      <td>Android</td>\n",
       "    </tr>\n",
       "    <tr>\n",
       "      <th>...</th>\n",
       "      <td>...</td>\n",
       "      <td>...</td>\n",
       "      <td>...</td>\n",
       "      <td>...</td>\n",
       "      <td>...</td>\n",
       "      <td>...</td>\n",
       "      <td>...</td>\n",
       "      <td>...</td>\n",
       "    </tr>\n",
       "    <tr>\n",
       "      <th>22765</th>\n",
       "      <td>4.7</td>\n",
       "      <td>Expert Solutions</td>\n",
       "      <td>Web Developer</td>\n",
       "      <td>200000</td>\n",
       "      <td>1</td>\n",
       "      <td>Bangalore</td>\n",
       "      <td>Full Time</td>\n",
       "      <td>Web</td>\n",
       "    </tr>\n",
       "    <tr>\n",
       "      <th>22766</th>\n",
       "      <td>4.0</td>\n",
       "      <td>Nextgen Innovation Labs</td>\n",
       "      <td>Web Developer</td>\n",
       "      <td>300000</td>\n",
       "      <td>1</td>\n",
       "      <td>Bangalore</td>\n",
       "      <td>Full Time</td>\n",
       "      <td>Web</td>\n",
       "    </tr>\n",
       "    <tr>\n",
       "      <th>22767</th>\n",
       "      <td>4.1</td>\n",
       "      <td>Fresher</td>\n",
       "      <td>Full Stack Web Developer</td>\n",
       "      <td>192000</td>\n",
       "      <td>13</td>\n",
       "      <td>Bangalore</td>\n",
       "      <td>Full Time</td>\n",
       "      <td>Web</td>\n",
       "    </tr>\n",
       "    <tr>\n",
       "      <th>22768</th>\n",
       "      <td>4.1</td>\n",
       "      <td>Accenture</td>\n",
       "      <td>Full Stack Web Developer</td>\n",
       "      <td>300000</td>\n",
       "      <td>7</td>\n",
       "      <td>Bangalore</td>\n",
       "      <td>Full Time</td>\n",
       "      <td>Web</td>\n",
       "    </tr>\n",
       "    <tr>\n",
       "      <th>22769</th>\n",
       "      <td>3.8</td>\n",
       "      <td>Thomson Reuters</td>\n",
       "      <td>Associate Web Developer</td>\n",
       "      <td>300000</td>\n",
       "      <td>7</td>\n",
       "      <td>Bangalore</td>\n",
       "      <td>Full Time</td>\n",
       "      <td>Web</td>\n",
       "    </tr>\n",
       "  </tbody>\n",
       "</table>\n",
       "<p>22770 rows × 8 columns</p>\n",
       "</div>"
      ],
      "text/plain": [
       "       Rating                      Company Name                 Job Title  \\\n",
       "0         3.8                            Sasken         Android Developer   \n",
       "1         4.5  Advanced Millennium Technologies         Android Developer   \n",
       "2         4.0                         Unacademy         Android Developer   \n",
       "3         3.8                SnapBizz Cloudtech         Android Developer   \n",
       "4         4.4            Appoids Tech Solutions         Android Developer   \n",
       "...       ...                               ...                       ...   \n",
       "22765     4.7                  Expert Solutions             Web Developer   \n",
       "22766     4.0           Nextgen Innovation Labs             Web Developer   \n",
       "22767     4.1                           Fresher  Full Stack Web Developer   \n",
       "22768     4.1                         Accenture  Full Stack Web Developer   \n",
       "22769     3.8                   Thomson Reuters   Associate Web Developer   \n",
       "\n",
       "        Salary  Salaries Reported   Location Employment Status Job Roles  \n",
       "0       400000                  3  Bangalore         Full Time   Android  \n",
       "1       400000                  3  Bangalore         Full Time   Android  \n",
       "2      1000000                  3  Bangalore         Full Time   Android  \n",
       "3       300000                  3  Bangalore         Full Time   Android  \n",
       "4       600000                  3  Bangalore         Full Time   Android  \n",
       "...        ...                ...        ...               ...       ...  \n",
       "22765   200000                  1  Bangalore         Full Time       Web  \n",
       "22766   300000                  1  Bangalore         Full Time       Web  \n",
       "22767   192000                 13  Bangalore         Full Time       Web  \n",
       "22768   300000                  7  Bangalore         Full Time       Web  \n",
       "22769   300000                  7  Bangalore         Full Time       Web  \n",
       "\n",
       "[22770 rows x 8 columns]"
      ]
     },
     "execution_count": 4,
     "metadata": {},
     "output_type": "execute_result"
    }
   ],
   "source": [
    "df"
   ]
  },
  {
   "cell_type": "code",
   "execution_count": 5,
   "id": "e6e5bae6-1cb2-41f7-b0ea-d5281a12da70",
   "metadata": {},
   "outputs": [
    {
     "name": "stdout",
     "output_type": "stream",
     "text": [
      "<class 'pandas.core.frame.DataFrame'>\n",
      "RangeIndex: 22770 entries, 0 to 22769\n",
      "Data columns (total 8 columns):\n",
      " #   Column             Non-Null Count  Dtype  \n",
      "---  ------             --------------  -----  \n",
      " 0   Rating             22770 non-null  float64\n",
      " 1   Company Name       22769 non-null  object \n",
      " 2   Job Title          22770 non-null  object \n",
      " 3   Salary             22770 non-null  int64  \n",
      " 4   Salaries Reported  22770 non-null  int64  \n",
      " 5   Location           22770 non-null  object \n",
      " 6   Employment Status  22770 non-null  object \n",
      " 7   Job Roles          22770 non-null  object \n",
      "dtypes: float64(1), int64(2), object(5)\n",
      "memory usage: 1.4+ MB\n"
     ]
    }
   ],
   "source": [
    "df.info()"
   ]
  },
  {
   "cell_type": "code",
   "execution_count": 6,
   "id": "8c0c0dfa-849a-4f78-9e9a-b760e9d04cc6",
   "metadata": {},
   "outputs": [
    {
     "data": {
      "text/plain": [
       "Rating               0\n",
       "Company Name         1\n",
       "Job Title            0\n",
       "Salary               0\n",
       "Salaries Reported    0\n",
       "Location             0\n",
       "Employment Status    0\n",
       "Job Roles            0\n",
       "dtype: int64"
      ]
     },
     "execution_count": 6,
     "metadata": {},
     "output_type": "execute_result"
    }
   ],
   "source": [
    "df.isnull().sum()"
   ]
  },
  {
   "cell_type": "code",
   "execution_count": 7,
   "id": "880016b9-73c8-4c9d-b418-847c9fcc3cdc",
   "metadata": {},
   "outputs": [
    {
     "data": {
      "text/plain": [
       "(22770, 8)"
      ]
     },
     "execution_count": 7,
     "metadata": {},
     "output_type": "execute_result"
    }
   ],
   "source": [
    "df.shape"
   ]
  },
  {
   "cell_type": "code",
   "execution_count": 8,
   "id": "1e04580a-d938-41eb-b2ca-62ffa0c12d9e",
   "metadata": {},
   "outputs": [],
   "source": [
    "df=df.dropna()"
   ]
  },
  {
   "cell_type": "code",
   "execution_count": 9,
   "id": "1f97a7ae-dff0-4c55-9717-0de347848ab4",
   "metadata": {},
   "outputs": [
    {
     "data": {
      "text/plain": [
       "(22769, 8)"
      ]
     },
     "execution_count": 9,
     "metadata": {},
     "output_type": "execute_result"
    }
   ],
   "source": [
    "df.shape"
   ]
  },
  {
   "cell_type": "code",
   "execution_count": 10,
   "id": "339c78b6-cd9f-483a-85ba-448d6410a28c",
   "metadata": {},
   "outputs": [
    {
     "data": {
      "text/plain": [
       "0"
      ]
     },
     "execution_count": 10,
     "metadata": {},
     "output_type": "execute_result"
    }
   ],
   "source": [
    "df.duplicated().sum()"
   ]
  },
  {
   "cell_type": "code",
   "execution_count": 11,
   "id": "a5a364e9-f90e-4ccf-aa0e-81cb2c3d2e22",
   "metadata": {},
   "outputs": [
    {
     "data": {
      "text/html": [
       "<div>\n",
       "<style scoped>\n",
       "    .dataframe tbody tr th:only-of-type {\n",
       "        vertical-align: middle;\n",
       "    }\n",
       "\n",
       "    .dataframe tbody tr th {\n",
       "        vertical-align: top;\n",
       "    }\n",
       "\n",
       "    .dataframe thead th {\n",
       "        text-align: right;\n",
       "    }\n",
       "</style>\n",
       "<table border=\"1\" class=\"dataframe\">\n",
       "  <thead>\n",
       "    <tr style=\"text-align: right;\">\n",
       "      <th></th>\n",
       "      <th>Rating</th>\n",
       "      <th>Salary</th>\n",
       "      <th>Salaries Reported</th>\n",
       "    </tr>\n",
       "  </thead>\n",
       "  <tbody>\n",
       "    <tr>\n",
       "      <th>count</th>\n",
       "      <td>22769.000000</td>\n",
       "      <td>2.276900e+04</td>\n",
       "      <td>22769.000000</td>\n",
       "    </tr>\n",
       "    <tr>\n",
       "      <th>mean</th>\n",
       "      <td>3.918209</td>\n",
       "      <td>6.953656e+05</td>\n",
       "      <td>1.855813</td>\n",
       "    </tr>\n",
       "    <tr>\n",
       "      <th>std</th>\n",
       "      <td>0.519686</td>\n",
       "      <td>8.844124e+05</td>\n",
       "      <td>6.823816</td>\n",
       "    </tr>\n",
       "    <tr>\n",
       "      <th>min</th>\n",
       "      <td>1.000000</td>\n",
       "      <td>2.112000e+03</td>\n",
       "      <td>1.000000</td>\n",
       "    </tr>\n",
       "    <tr>\n",
       "      <th>25%</th>\n",
       "      <td>3.700000</td>\n",
       "      <td>3.000000e+05</td>\n",
       "      <td>1.000000</td>\n",
       "    </tr>\n",
       "    <tr>\n",
       "      <th>50%</th>\n",
       "      <td>3.900000</td>\n",
       "      <td>5.000000e+05</td>\n",
       "      <td>1.000000</td>\n",
       "    </tr>\n",
       "    <tr>\n",
       "      <th>75%</th>\n",
       "      <td>4.200000</td>\n",
       "      <td>9.000000e+05</td>\n",
       "      <td>1.000000</td>\n",
       "    </tr>\n",
       "    <tr>\n",
       "      <th>max</th>\n",
       "      <td>5.000000</td>\n",
       "      <td>9.000000e+07</td>\n",
       "      <td>361.000000</td>\n",
       "    </tr>\n",
       "  </tbody>\n",
       "</table>\n",
       "</div>"
      ],
      "text/plain": [
       "             Rating        Salary  Salaries Reported\n",
       "count  22769.000000  2.276900e+04       22769.000000\n",
       "mean       3.918209  6.953656e+05           1.855813\n",
       "std        0.519686  8.844124e+05           6.823816\n",
       "min        1.000000  2.112000e+03           1.000000\n",
       "25%        3.700000  3.000000e+05           1.000000\n",
       "50%        3.900000  5.000000e+05           1.000000\n",
       "75%        4.200000  9.000000e+05           1.000000\n",
       "max        5.000000  9.000000e+07         361.000000"
      ]
     },
     "execution_count": 11,
     "metadata": {},
     "output_type": "execute_result"
    }
   ],
   "source": [
    "df.describe()"
   ]
  },
  {
   "cell_type": "code",
   "execution_count": 12,
   "id": "934751c8-127b-4b8f-a54e-ce7242567636",
   "metadata": {},
   "outputs": [
    {
     "data": {
      "text/plain": [
       "array(['Android Developer', 'Android Developer - Intern',\n",
       "       'Android Developer - Contractor', ..., 'Web Developer Contractor',\n",
       "       'Full Stack Web Developer', 'Associate Web Developer'],\n",
       "      dtype=object)"
      ]
     },
     "execution_count": 12,
     "metadata": {},
     "output_type": "execute_result"
    }
   ],
   "source": [
    "df[\"Job Title\"].unique()"
   ]
  },
  {
   "cell_type": "code",
   "execution_count": 13,
   "id": "afaa2459-73fa-4e4a-8a4d-b591551e25cb",
   "metadata": {},
   "outputs": [
    {
     "data": {
      "text/plain": [
       "array(['Android Developer', 'Android Developer', 'Android Developer', ...,\n",
       "       'Full Stack Web Developer', 'Full Stack Web Developer',\n",
       "       'Associate Web Developer'], dtype=object)"
      ]
     },
     "execution_count": 13,
     "metadata": {},
     "output_type": "execute_result"
    }
   ],
   "source": [
    "df['Job Title'].values"
   ]
  },
  {
   "cell_type": "code",
   "execution_count": 14,
   "id": "85040376-1c02-4955-b37b-2661674d9a34",
   "metadata": {},
   "outputs": [
    {
     "data": {
      "text/plain": [
       "array([ 400000,  400000, 1000000, ...,  192000,  300000,  300000],\n",
       "      dtype=int64)"
      ]
     },
     "execution_count": 14,
     "metadata": {},
     "output_type": "execute_result"
    }
   ],
   "source": [
    "df['Salary'].values"
   ]
  },
  {
   "cell_type": "code",
   "execution_count": 15,
   "id": "b7a876ee-07e9-4b59-bb4d-eb5a710760e4",
   "metadata": {},
   "outputs": [
    {
     "data": {
      "text/plain": [
       "array([  3,   2,   1,   5,   4,   6,   8,  11,   9,  30,  19,  35,  17,\n",
       "         7,  43,  24,  21,  15,  14,  13,  12,  10,  26,  29,  18,  16,\n",
       "        84,  38,  36,  20, 291,  23, 353,  40,  60, 162,  68,  33,  45,\n",
       "        73, 135, 100,  22,  75,  37,  34,  65, 115,  28, 186,  41,  31,\n",
       "       188, 149,  77,  76,  52,  39,  83,  25, 361,  42, 280,  74,  44,\n",
       "       331,  70,  50,  48, 263, 116, 106, 103,  98,  91,  80,  71,  64,\n",
       "        51,  46,  32,  27], dtype=int64)"
      ]
     },
     "execution_count": 15,
     "metadata": {},
     "output_type": "execute_result"
    }
   ],
   "source": [
    "df[\"Salaries Reported\"].unique()"
   ]
  },
  {
   "cell_type": "code",
   "execution_count": 16,
   "id": "67a86ce2-ea49-4183-936c-41f7e5385e9c",
   "metadata": {},
   "outputs": [
    {
     "data": {
      "text/plain": [
       "array(['Bangalore', 'Chennai', 'Hyderabad', 'New Delhi', 'Pune', 'Jaipur',\n",
       "       'Kerala', 'Kolkata', 'Madhya Pradesh', 'Mumbai'], dtype=object)"
      ]
     },
     "execution_count": 16,
     "metadata": {},
     "output_type": "execute_result"
    }
   ],
   "source": [
    "df[\"Location\"].unique()"
   ]
  },
  {
   "cell_type": "code",
   "execution_count": 17,
   "id": "cfde3889-bdda-445b-ae29-f450dc5706bc",
   "metadata": {},
   "outputs": [
    {
     "data": {
      "text/plain": [
       "array(['Full Time', 'Intern', 'Contractor', 'Trainee'], dtype=object)"
      ]
     },
     "execution_count": 17,
     "metadata": {},
     "output_type": "execute_result"
    }
   ],
   "source": [
    "df[\"Employment Status\"].unique()"
   ]
  },
  {
   "cell_type": "code",
   "execution_count": 18,
   "id": "19294bde-8a1b-4a00-8d2b-fa47dd3bc82e",
   "metadata": {},
   "outputs": [
    {
     "data": {
      "text/plain": [
       "array(['Android', 'Backend', 'Database', 'Frontend', 'IOS', 'Java',\n",
       "       'Mobile', 'SDE', 'Python', 'Web', 'Testing'], dtype=object)"
      ]
     },
     "execution_count": 18,
     "metadata": {},
     "output_type": "execute_result"
    }
   ],
   "source": [
    "df[\"Job Roles\"].unique()"
   ]
  },
  {
   "cell_type": "code",
   "execution_count": 19,
   "id": "4792dbcc-a83d-47e3-8bc6-22e266559e54",
   "metadata": {},
   "outputs": [],
   "source": [
    "from sklearn.preprocessing import LabelEncoder"
   ]
  },
  {
   "cell_type": "code",
   "execution_count": 20,
   "id": "b73cf283-88c2-492a-8249-d3be5444474f",
   "metadata": {},
   "outputs": [
    {
     "name": "stderr",
     "output_type": "stream",
     "text": [
      "C:\\Users\\Admin\\AppData\\Local\\Temp\\ipykernel_8256\\1581216012.py:2: SettingWithCopyWarning: \n",
      "A value is trying to be set on a copy of a slice from a DataFrame.\n",
      "Try using .loc[row_indexer,col_indexer] = value instead\n",
      "\n",
      "See the caveats in the documentation: https://pandas.pydata.org/pandas-docs/stable/user_guide/indexing.html#returning-a-view-versus-a-copy\n",
      "  df['Job Roles']=le.fit_transform(df['Job Roles'])\n",
      "C:\\Users\\Admin\\AppData\\Local\\Temp\\ipykernel_8256\\1581216012.py:3: SettingWithCopyWarning: \n",
      "A value is trying to be set on a copy of a slice from a DataFrame.\n",
      "Try using .loc[row_indexer,col_indexer] = value instead\n",
      "\n",
      "See the caveats in the documentation: https://pandas.pydata.org/pandas-docs/stable/user_guide/indexing.html#returning-a-view-versus-a-copy\n",
      "  df['Employment Status']=le.fit_transform(df['Employment Status'])\n",
      "C:\\Users\\Admin\\AppData\\Local\\Temp\\ipykernel_8256\\1581216012.py:4: SettingWithCopyWarning: \n",
      "A value is trying to be set on a copy of a slice from a DataFrame.\n",
      "Try using .loc[row_indexer,col_indexer] = value instead\n",
      "\n",
      "See the caveats in the documentation: https://pandas.pydata.org/pandas-docs/stable/user_guide/indexing.html#returning-a-view-versus-a-copy\n",
      "  df['Location']=le.fit_transform(df['Location'])\n",
      "C:\\Users\\Admin\\AppData\\Local\\Temp\\ipykernel_8256\\1581216012.py:5: SettingWithCopyWarning: \n",
      "A value is trying to be set on a copy of a slice from a DataFrame.\n",
      "Try using .loc[row_indexer,col_indexer] = value instead\n",
      "\n",
      "See the caveats in the documentation: https://pandas.pydata.org/pandas-docs/stable/user_guide/indexing.html#returning-a-view-versus-a-copy\n",
      "  df['Job Title']=le.fit_transform(df['Job Title'])\n",
      "C:\\Users\\Admin\\AppData\\Local\\Temp\\ipykernel_8256\\1581216012.py:6: SettingWithCopyWarning: \n",
      "A value is trying to be set on a copy of a slice from a DataFrame.\n",
      "Try using .loc[row_indexer,col_indexer] = value instead\n",
      "\n",
      "See the caveats in the documentation: https://pandas.pydata.org/pandas-docs/stable/user_guide/indexing.html#returning-a-view-versus-a-copy\n",
      "  df['Company Name']=le.fit_transform(df['Company Name'])\n"
     ]
    }
   ],
   "source": [
    "le=LabelEncoder()\n",
    "df['Job Roles']=le.fit_transform(df['Job Roles'])\n",
    "df['Employment Status']=le.fit_transform(df['Employment Status'])\n",
    "df['Location']=le.fit_transform(df['Location'])\n",
    "df['Job Title']=le.fit_transform(df['Job Title'])\n",
    "df['Company Name']=le.fit_transform(df['Company Name'])"
   ]
  },
  {
   "cell_type": "code",
   "execution_count": 21,
   "id": "1d1e8aaf-1423-4896-a295-fc9f12f31692",
   "metadata": {},
   "outputs": [
    {
     "data": {
      "text/plain": [
       "0         0\n",
       "1         0\n",
       "2         0\n",
       "3         0\n",
       "4         0\n",
       "         ..\n",
       "22765    10\n",
       "22766    10\n",
       "22767    10\n",
       "22768    10\n",
       "22769    10\n",
       "Name: Job Roles, Length: 22769, dtype: int32"
      ]
     },
     "execution_count": 21,
     "metadata": {},
     "output_type": "execute_result"
    }
   ],
   "source": [
    "df['Job Roles']"
   ]
  },
  {
   "cell_type": "code",
   "execution_count": 22,
   "id": "b1816280-7c9d-4626-8046-ad1fb05339fc",
   "metadata": {},
   "outputs": [
    {
     "data": {
      "text/html": [
       "<div>\n",
       "<style scoped>\n",
       "    .dataframe tbody tr th:only-of-type {\n",
       "        vertical-align: middle;\n",
       "    }\n",
       "\n",
       "    .dataframe tbody tr th {\n",
       "        vertical-align: top;\n",
       "    }\n",
       "\n",
       "    .dataframe thead th {\n",
       "        text-align: right;\n",
       "    }\n",
       "</style>\n",
       "<table border=\"1\" class=\"dataframe\">\n",
       "  <thead>\n",
       "    <tr style=\"text-align: right;\">\n",
       "      <th></th>\n",
       "      <th>Rating</th>\n",
       "      <th>Company Name</th>\n",
       "      <th>Job Title</th>\n",
       "      <th>Salary</th>\n",
       "      <th>Salaries Reported</th>\n",
       "      <th>Location</th>\n",
       "      <th>Employment Status</th>\n",
       "      <th>Job Roles</th>\n",
       "    </tr>\n",
       "  </thead>\n",
       "  <tbody>\n",
       "    <tr>\n",
       "      <th>0</th>\n",
       "      <td>3.8</td>\n",
       "      <td>8129</td>\n",
       "      <td>28</td>\n",
       "      <td>400000</td>\n",
       "      <td>3</td>\n",
       "      <td>0</td>\n",
       "      <td>1</td>\n",
       "      <td>0</td>\n",
       "    </tr>\n",
       "    <tr>\n",
       "      <th>1</th>\n",
       "      <td>4.5</td>\n",
       "      <td>417</td>\n",
       "      <td>28</td>\n",
       "      <td>400000</td>\n",
       "      <td>3</td>\n",
       "      <td>0</td>\n",
       "      <td>1</td>\n",
       "      <td>0</td>\n",
       "    </tr>\n",
       "    <tr>\n",
       "      <th>2</th>\n",
       "      <td>4.0</td>\n",
       "      <td>9777</td>\n",
       "      <td>28</td>\n",
       "      <td>1000000</td>\n",
       "      <td>3</td>\n",
       "      <td>0</td>\n",
       "      <td>1</td>\n",
       "      <td>0</td>\n",
       "    </tr>\n",
       "    <tr>\n",
       "      <th>3</th>\n",
       "      <td>3.8</td>\n",
       "      <td>8533</td>\n",
       "      <td>28</td>\n",
       "      <td>300000</td>\n",
       "      <td>3</td>\n",
       "      <td>0</td>\n",
       "      <td>1</td>\n",
       "      <td>0</td>\n",
       "    </tr>\n",
       "    <tr>\n",
       "      <th>4</th>\n",
       "      <td>4.4</td>\n",
       "      <td>884</td>\n",
       "      <td>28</td>\n",
       "      <td>600000</td>\n",
       "      <td>3</td>\n",
       "      <td>0</td>\n",
       "      <td>1</td>\n",
       "      <td>0</td>\n",
       "    </tr>\n",
       "    <tr>\n",
       "      <th>...</th>\n",
       "      <td>...</td>\n",
       "      <td>...</td>\n",
       "      <td>...</td>\n",
       "      <td>...</td>\n",
       "      <td>...</td>\n",
       "      <td>...</td>\n",
       "      <td>...</td>\n",
       "      <td>...</td>\n",
       "    </tr>\n",
       "    <tr>\n",
       "      <th>22765</th>\n",
       "      <td>4.7</td>\n",
       "      <td>3142</td>\n",
       "      <td>1071</td>\n",
       "      <td>200000</td>\n",
       "      <td>1</td>\n",
       "      <td>0</td>\n",
       "      <td>1</td>\n",
       "      <td>10</td>\n",
       "    </tr>\n",
       "    <tr>\n",
       "      <th>22766</th>\n",
       "      <td>4.0</td>\n",
       "      <td>6373</td>\n",
       "      <td>1071</td>\n",
       "      <td>300000</td>\n",
       "      <td>1</td>\n",
       "      <td>0</td>\n",
       "      <td>1</td>\n",
       "      <td>10</td>\n",
       "    </tr>\n",
       "    <tr>\n",
       "      <th>22767</th>\n",
       "      <td>4.1</td>\n",
       "      <td>3444</td>\n",
       "      <td>264</td>\n",
       "      <td>192000</td>\n",
       "      <td>13</td>\n",
       "      <td>0</td>\n",
       "      <td>1</td>\n",
       "      <td>10</td>\n",
       "    </tr>\n",
       "    <tr>\n",
       "      <th>22768</th>\n",
       "      <td>4.1</td>\n",
       "      <td>313</td>\n",
       "      <td>264</td>\n",
       "      <td>300000</td>\n",
       "      <td>7</td>\n",
       "      <td>0</td>\n",
       "      <td>1</td>\n",
       "      <td>10</td>\n",
       "    </tr>\n",
       "    <tr>\n",
       "      <th>22769</th>\n",
       "      <td>3.8</td>\n",
       "      <td>9486</td>\n",
       "      <td>91</td>\n",
       "      <td>300000</td>\n",
       "      <td>7</td>\n",
       "      <td>0</td>\n",
       "      <td>1</td>\n",
       "      <td>10</td>\n",
       "    </tr>\n",
       "  </tbody>\n",
       "</table>\n",
       "<p>22769 rows × 8 columns</p>\n",
       "</div>"
      ],
      "text/plain": [
       "       Rating  Company Name  Job Title   Salary  Salaries Reported  Location  \\\n",
       "0         3.8          8129         28   400000                  3         0   \n",
       "1         4.5           417         28   400000                  3         0   \n",
       "2         4.0          9777         28  1000000                  3         0   \n",
       "3         3.8          8533         28   300000                  3         0   \n",
       "4         4.4           884         28   600000                  3         0   \n",
       "...       ...           ...        ...      ...                ...       ...   \n",
       "22765     4.7          3142       1071   200000                  1         0   \n",
       "22766     4.0          6373       1071   300000                  1         0   \n",
       "22767     4.1          3444        264   192000                 13         0   \n",
       "22768     4.1           313        264   300000                  7         0   \n",
       "22769     3.8          9486         91   300000                  7         0   \n",
       "\n",
       "       Employment Status  Job Roles  \n",
       "0                      1          0  \n",
       "1                      1          0  \n",
       "2                      1          0  \n",
       "3                      1          0  \n",
       "4                      1          0  \n",
       "...                  ...        ...  \n",
       "22765                  1         10  \n",
       "22766                  1         10  \n",
       "22767                  1         10  \n",
       "22768                  1         10  \n",
       "22769                  1         10  \n",
       "\n",
       "[22769 rows x 8 columns]"
      ]
     },
     "execution_count": 22,
     "metadata": {},
     "output_type": "execute_result"
    }
   ],
   "source": [
    "df"
   ]
  },
  {
   "cell_type": "code",
   "execution_count": 23,
   "id": "cad9270d-9da3-44fe-b746-f98ffa10c081",
   "metadata": {},
   "outputs": [],
   "source": [
    "X = df[['Rating', 'Company Name', 'Job Title', 'Salaries Reported', 'Location', 'Employment Status', 'Job Roles']]\n",
    "y = df['Salary']\n",
    "\n",
    "# Split into train and test sets\n",
    "X_train, X_test, y_train, y_test = train_test_split(X, y, test_size=0.2, random_state=42)\n",
    "\n",
    "scaler = StandardScaler()\n",
    "X_train_scaled = scaler.fit_transform(X_train)\n",
    "X_test_scaled = scaler.transform(X_test)\n",
    "\n",
    "# Train a Random Forest Regressor\n",
    "model = RandomForestRegressor(n_estimators=100, random_state=42)\n",
    "model.fit(X_train_scaled, y_train)\n",
    "\n",
    "# Make predictions\n",
    "y_pred = model.predict(X_test_scaled)\n",
    "\n",
    "# Calculate Mean Absolute Error\n",
    "mae = mean_absolute_error(y_test, y_pred)"
   ]
  },
  {
   "cell_type": "code",
   "execution_count": 24,
   "id": "d7c93ceb-1b3e-4448-8fb1-36fc9e3807d5",
   "metadata": {},
   "outputs": [
    {
     "name": "stdout",
     "output_type": "stream",
     "text": [
      "392817.22139208514\n"
     ]
    }
   ],
   "source": [
    "print(mae)"
   ]
  },
  {
   "cell_type": "code",
   "execution_count": 25,
   "id": "77b690d8-f1e3-40c8-b07f-7d0d7c883e45",
   "metadata": {},
   "outputs": [
    {
     "data": {
      "text/plain": [
       "(4.879953827637995, 85.73620148818296)"
      ]
     },
     "execution_count": 25,
     "metadata": {},
     "output_type": "execute_result"
    }
   ],
   "source": [
    "model.score(X_test_scaled,y_test)*100,model.score(X_train_scaled,y_train)*100"
   ]
  },
  {
   "cell_type": "code",
   "execution_count": 26,
   "id": "4f9f3ffa-1196-4c20-a39f-f57f90ed9bb1",
   "metadata": {},
   "outputs": [
    {
     "name": "stdout",
     "output_type": "stream",
     "text": [
      " Train R-squared: 1.8772524235628807\n"
     ]
    }
   ],
   "source": [
    "#linear regression\n",
    "from sklearn.linear_model import LinearRegression\n",
    "reg = LinearRegression()\n",
    "reg.fit(X_train, y_train)\n",
    "# R squared score\n",
    "score =reg.score(X_train, y_train)*100\n",
    "print(' Train R-squared:', score)"
   ]
  },
  {
   "cell_type": "code",
   "execution_count": 27,
   "id": "5f7a1499-647e-43b6-b207-942d856bac0a",
   "metadata": {},
   "outputs": [
    {
     "name": "stdout",
     "output_type": "stream",
     "text": [
      "Mean Absolute Error: ₹363032.40\n"
     ]
    }
   ],
   "source": [
    "import pandas as pd\n",
    "from sklearn.model_selection import train_test_split\n",
    "from sklearn.ensemble import RandomForestRegressor\n",
    "from sklearn.preprocessing import StandardScaler, OneHotEncoder\n",
    "from sklearn.compose import ColumnTransformer\n",
    "from sklearn.pipeline import Pipeline\n",
    "from sklearn.metrics import mean_absolute_error\n",
    "\n",
    "# Load dataset\n",
    "df = pd.read_csv(\"Salary_Dataset_with_Extra_Features.csv\")\n",
    "df.dropna(inplace=True)\n",
    "\n",
    "# Features & target\n",
    "features = ['Rating', 'Company Name', 'Job Title', 'Salaries Reported', 'Location', 'Employment Status', 'Job Roles']\n",
    "target = 'Salary'\n",
    "X = df[features]\n",
    "y = df[target]\n",
    "\n",
    "# Column types\n",
    "categorical_cols = ['Company Name', 'Job Title', 'Location', 'Employment Status', 'Job Roles']\n",
    "numerical_cols = ['Rating', 'Salaries Reported']\n",
    "\n",
    "# Preprocessor\n",
    "preprocessor = ColumnTransformer([\n",
    "    ('num', StandardScaler(), numerical_cols),\n",
    "    ('cat', OneHotEncoder(handle_unknown='ignore'), categorical_cols)\n",
    "])\n",
    "\n",
    "# Pipeline\n",
    "model = Pipeline([\n",
    "    ('preprocessor', preprocessor),\n",
    "    ('regressor', RandomForestRegressor(n_estimators=100, max_depth=30, n_jobs=-1, random_state=42))\n",
    "])\n",
    "\n",
    "# Train-test split\n",
    "X_train, X_test, y_train, y_test = train_test_split(X, y, test_size=0.2, random_state=42)\n",
    "\n",
    "# Train model\n",
    "model.fit(X_train, y_train)\n",
    "\n",
    "# Evaluate\n",
    "y_pred = model.predict(X_test)\n",
    "mae = mean_absolute_error(y_test, y_pred)\n",
    "print(f\"Mean Absolute Error: ₹{mae:.2f}\")\n"
   ]
  },
  {
   "cell_type": "code",
   "execution_count": 28,
   "id": "ea982f00-3d3c-44ed-93f5-1411662def1e",
   "metadata": {},
   "outputs": [
    {
     "data": {
      "text/plain": [
       "70.01804656074135"
      ]
     },
     "execution_count": 28,
     "metadata": {},
     "output_type": "execute_result"
    }
   ],
   "source": [
    "model.score(X_train,y_train)*100"
   ]
  },
  {
   "cell_type": "code",
   "execution_count": 29,
   "id": "4b2a09bd-ab8d-4279-8cb0-2791a442c761",
   "metadata": {},
   "outputs": [
    {
     "data": {
      "text/plain": [
       "16.93861934195372"
      ]
     },
     "execution_count": 29,
     "metadata": {},
     "output_type": "execute_result"
    }
   ],
   "source": [
    "model.score(X_test,y_test)*100"
   ]
  },
  {
   "cell_type": "code",
   "execution_count": 30,
   "id": "602ec90f-7c47-4aef-bd13-59d0c04bf737",
   "metadata": {},
   "outputs": [
    {
     "data": {
      "text/plain": [
       "0.1693861934195372"
      ]
     },
     "execution_count": 30,
     "metadata": {},
     "output_type": "execute_result"
    }
   ],
   "source": [
    "from sklearn.metrics import r2_score\n",
    "r2_score(y_test, y_pred)"
   ]
  },
  {
   "cell_type": "code",
   "execution_count": 31,
   "id": "44db2ea6-3793-4f39-994c-2a936aeeafe6",
   "metadata": {},
   "outputs": [
    {
     "name": "stdout",
     "output_type": "stream",
     "text": [
      "Average Salary: ₹695365.58\n"
     ]
    }
   ],
   "source": [
    "avg_salary = df[\"Salary\"].mean()\n",
    "print(f\"Average Salary: ₹{avg_salary:.2f}\")\n"
   ]
  },
  {
   "cell_type": "code",
   "execution_count": 35,
   "id": "c49dee75-c3d9-4519-8edf-33113b8280f0",
   "metadata": {},
   "outputs": [
    {
     "name": "stdout",
     "output_type": "stream",
     "text": [
      "Fitting 3 folds for each of 10 candidates, totalling 30 fits\n"
     ]
    },
    {
     "data": {
      "text/plain": [
       "(267829.8374013272, 0.1611637886208892)"
      ]
     },
     "execution_count": 35,
     "metadata": {},
     "output_type": "execute_result"
    }
   ],
   "source": [
    "df = pd.read_csv(\"Salary_Dataset_with_Extra_Features.csv\")\n",
    "df.dropna(inplace=True)\n",
    "\n",
    "# Step 1: Feature Engineering - Extract Job Seniority Level\n",
    "def extract_seniority(title):\n",
    "    title = title.lower()\n",
    "    if \"intern\" in title:\n",
    "        return \"Intern\"\n",
    "    elif \"senior\" in title or \"sr\" in title:\n",
    "        return \"Senior\"\n",
    "    elif \"lead\" in title or \"head\" in title:\n",
    "        return \"Lead\"\n",
    "    elif \"associate\" in title:\n",
    "        return \"Associate\"\n",
    "    elif \"junior\" in title:\n",
    "        return \"Junior\"\n",
    "    else:\n",
    "        return \"Mid\"\n",
    "\n",
    "df[\"Job Seniority\"] = df[\"Job Title\"].apply(extract_seniority)\n",
    "\n",
    "# Step 2: Outlier Removal using IQR on Salary\n",
    "q1 = df['Salary'].quantile(0.25)\n",
    "q3 = df['Salary'].quantile(0.75)\n",
    "iqr = q3 - q1\n",
    "lower_bound = q1 - 1.5 * iqr\n",
    "upper_bound = q3 + 1.5 * iqr\n",
    "df = df[(df['Salary'] >= lower_bound) & (df['Salary'] <= upper_bound)]\n",
    "\n",
    "# Step 3: Define features and target\n",
    "features = ['Rating', 'Company Name', 'Job Title', 'Salaries Reported', 'Location', \n",
    "            'Employment Status', 'Job Roles', 'Job Seniority']\n",
    "target = 'Salary'\n",
    "\n",
    "X = df[features]\n",
    "y = df[target]\n",
    "y_log = np.log1p(y)  # log transform target\n",
    "\n",
    "# Identify categorical and numerical columns\n",
    "categorical_cols = ['Company Name', 'Job Title', 'Location', 'Employment Status', 'Job Roles', 'Job Seniority']\n",
    "numerical_cols = ['Rating', 'Salaries Reported']\n",
    "\n",
    "# Preprocessing\n",
    "preprocessor = ColumnTransformer(\n",
    "    transformers=[\n",
    "        ('num', StandardScaler(), numerical_cols),\n",
    "        ('cat', OneHotEncoder(handle_unknown='ignore'), categorical_cols)\n",
    "    ]\n",
    ")\n",
    "# XGBoost model with random hyperparameter tuning\n",
    "model = Pipeline(steps=[\n",
    "    ('preprocessor', preprocessor),\n",
    "    ('regressor', XGBRegressor(objective='reg:squarederror', random_state=42))\n",
    "])\n",
    "\n",
    "# Split the data\n",
    "X_train, X_test, y_train_log, y_test_log = train_test_split(X, y_log, test_size=0.2, random_state=42)\n",
    "\n",
    "# Step 4: Hyperparameter tuning\n",
    "param_grid = {\n",
    "    'regressor__n_estimators': [100, 200, 300],\n",
    "    'regressor__max_depth': [4, 6, 8, 10],\n",
    "    'regressor__learning_rate': [0.01, 0.05, 0.1],\n",
    "    'regressor__subsample': [0.6, 0.8, 1.0],\n",
    "    'regressor__colsample_bytree': [0.6, 0.8, 1.0]\n",
    "}\n",
    "\n",
    "search = RandomizedSearchCV(model, param_distributions=param_grid, n_iter=10, \n",
    "                            cv=3, scoring='neg_mean_absolute_error', n_jobs=-1, random_state=42, verbose=1)\n",
    "\n",
    "search.fit(X_train, y_train_log)\n",
    "\n",
    "# Final predictions using best estimator\n",
    "best_model = search.best_estimator_\n",
    "y_pred_log = best_model.predict(X_test)\n",
    "y_pred = np.expm1(y_pred_log)\n",
    "y_test = np.expm1(y_test_log)\n",
    "\n",
    "# Evaluation\n",
    "mae = mean_absolute_error(y_test, y_pred)\n",
    "r2 = r2_score(y_test, y_pred)\n",
    "mae, r2\n"
   ]
  },
  {
   "cell_type": "code",
   "execution_count": 36,
   "id": "b101ab9a-8ef4-4f09-b86f-51071e8980de",
   "metadata": {},
   "outputs": [
    {
     "name": "stdout",
     "output_type": "stream",
     "text": [
      " Mean Absolute Error: ₹267,829.84\n",
      " R² Score: 0.1612\n"
     ]
    }
   ],
   "source": [
    "print(f\" Mean Absolute Error: ₹{mae:,.2f}\")\n",
    "print(f\" R² Score: {r2:.4f}\")"
   ]
  },
  {
   "cell_type": "code",
   "execution_count": null,
   "id": "f5034943-97a7-48e2-916b-401a16f04d1a",
   "metadata": {},
   "outputs": [],
   "source": []
  }
 ],
 "metadata": {
  "kernelspec": {
   "display_name": "Python 3 (ipykernel)",
   "language": "python",
   "name": "python3"
  },
  "language_info": {
   "codemirror_mode": {
    "name": "ipython",
    "version": 3
   },
   "file_extension": ".py",
   "mimetype": "text/x-python",
   "name": "python",
   "nbconvert_exporter": "python",
   "pygments_lexer": "ipython3",
   "version": "3.12.3"
  }
 },
 "nbformat": 4,
 "nbformat_minor": 5
}
